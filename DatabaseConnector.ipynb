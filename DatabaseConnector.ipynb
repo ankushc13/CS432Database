{
 "cells": [
  {
   "cell_type": "code",
   "execution_count": 1,
   "metadata": {},
   "outputs": [],
   "source": [
    "import MySQLdb"
   ]
  },
  {
   "cell_type": "code",
   "execution_count": 2,
   "metadata": {},
   "outputs": [],
   "source": [
    "import MySQLdb\n",
    "\n",
    "class DbStreamer:\n",
    "\n",
    "    def __init__(self, host, user, password, database):\n",
    "        self.conn = MySQLdb.Connection(host=host,\n",
    "                                       user=user,\n",
    "                                       passwd=password,\n",
    "                                       db=database,\n",
    "                                       charset=\"utf8\",\n",
    "                                       use_unicode=True)\n",
    "        return\n",
    "\n",
    "    def get_connection(self):\n",
    "        return self.conn\n",
    "\n",
    "    def close_connection(self):\n",
    "        self.conn.commit()\n",
    "        self.conn.close()\n",
    "        return\n",
    "\n",
    "    def insert_user_details_sanitized(self, uid, uname):\n",
    "        sql = \"INSERT INTO user (userId, userName) VALUES (%s, %s)\"\n",
    "        val = (uid, uname)\n",
    "\n",
    "        _cursor = self.conn.cursor()\n",
    "        _cursor.execute(sql, val)\n",
    "        return\n",
    "\n",
    "    def insert_user_details_unsanitized(self, uid, uname):\n",
    "        sql = \"INSERT INTO user (userId, userName) VALUES ('%s', '%s')\" % (uid, uname)\n",
    "\n",
    "        _cursor = self.conn.cursor()\n",
    "        _cursor.execute(sql)\n",
    "        return\n",
    "    \n",
    "    def get_tables(self):\n",
    "        sql = \"SHOW TABLES;\"\n",
    "        \n",
    "        _cursor = self.conn.cursor()\n",
    "        _cursor.execute(sql)\n",
    "        data = _cursor.fetchall()\n",
    "        \n",
    "        print(data)\n",
    "        return\n",
    "\n",
    "    def get_all_users(self):\n",
    "        try:\n",
    "            sql = \"SELECT * FROM user\"\n",
    "\n",
    "            _cursor = self.conn.cursor()\n",
    "            _cursor.execute(sql)\n",
    "\n",
    "            row_headers = [x[0] for x in _cursor.description]\n",
    "            data = _cursor.fetchall()\n",
    "\n",
    "            json_data = []\n",
    "            for result in data:\n",
    "                json_data.append(dict(zip(row_headers, result)))\n",
    "            print(json_data, end=\"\\n\\n\")\n",
    "        except Exception as ex:\n",
    "            print(ex)\n",
    "        return"
   ]
  },
  {
   "cell_type": "markdown",
   "metadata": {},
   "source": [
    "### Initiate the connection"
   ]
  },
  {
   "cell_type": "code",
   "execution_count": 7,
   "metadata": {},
   "outputs": [],
   "source": [
    "db_streamer = DbStreamer(\"localhost\", username, password, \"test\")"
   ]
  },
  {
   "cell_type": "markdown",
   "metadata": {},
   "source": [
    "### Get tables and all entries in user table"
   ]
  },
  {
   "cell_type": "code",
   "execution_count": 8,
   "metadata": {},
   "outputs": [
    {
     "name": "stdout",
     "output_type": "stream",
     "text": [
      "(('user',),)\n",
      "[]\n",
      "\n"
     ]
    }
   ],
   "source": [
    "db_streamer.get_tables()\n",
    "db_streamer.get_all_users()"
   ]
  },
  {
   "cell_type": "markdown",
   "metadata": {},
   "source": [
    "### Sanitized input addition"
   ]
  },
  {
   "cell_type": "code",
   "execution_count": 9,
   "metadata": {},
   "outputs": [
    {
     "name": "stdout",
     "output_type": "stream",
     "text": [
      "(('user',),)\n",
      "[{'userId': 1, 'userName': \"Alex A'); DROP TABLE user;\"}]\n",
      "\n"
     ]
    }
   ],
   "source": [
    "db_streamer.insert_user_details_sanitized(1, \"Alex A'); DROP TABLE user;\")\n",
    "db_streamer.get_tables()\n",
    "db_streamer.get_all_users()"
   ]
  },
  {
   "cell_type": "markdown",
   "metadata": {},
   "source": [
    "### Unsanitized input"
   ]
  },
  {
   "cell_type": "code",
   "execution_count": 10,
   "metadata": {
    "scrolled": true
   },
   "outputs": [],
   "source": [
    "db_streamer.insert_user_details_unsanitized(2, \"Bob S'); DROP TABLE user;\")"
   ]
  },
  {
   "cell_type": "code",
   "execution_count": 12,
   "metadata": {},
   "outputs": [
    {
     "name": "stdout",
     "output_type": "stream",
     "text": [
      "(1146, \"Table 'test.user' doesn't exist\")\n"
     ]
    }
   ],
   "source": [
    "db_streamer.get_all_users()"
   ]
  },
  {
   "cell_type": "code",
   "execution_count": 13,
   "metadata": {},
   "outputs": [
    {
     "name": "stdout",
     "output_type": "stream",
     "text": [
      "()\n"
     ]
    }
   ],
   "source": [
    "db_streamer.get_tables()"
   ]
  },
  {
   "cell_type": "code",
   "execution_count": null,
   "metadata": {},
   "outputs": [],
   "source": []
  },
  {
   "cell_type": "code",
   "execution_count": null,
   "metadata": {},
   "outputs": [],
   "source": []
  },
  {
   "cell_type": "markdown",
   "metadata": {},
   "source": [
    "### References:"
   ]
  },
  {
   "cell_type": "markdown",
   "metadata": {},
   "source": [
    "[1] https://bobby-tables.com/python"
   ]
  },
  {
   "cell_type": "markdown",
   "metadata": {},
   "source": [
    "[2] https://xkcd.com/327/"
   ]
  }
 ],
 "metadata": {
  "kernelspec": {
   "display_name": "Python 3",
   "language": "python",
   "name": "python3"
  },
  "language_info": {
   "codemirror_mode": {
    "name": "ipython",
    "version": 3
   },
   "file_extension": ".py",
   "mimetype": "text/x-python",
   "name": "python",
   "nbconvert_exporter": "python",
   "pygments_lexer": "ipython3",
   "version": "3.5.2"
  }
 },
 "nbformat": 4,
 "nbformat_minor": 2
}
